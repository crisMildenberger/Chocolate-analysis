{
 "cells": [
  {
   "cell_type": "code",
   "execution_count": 1,
   "metadata": {},
   "outputs": [],
   "source": [
    "import pandas as pd\n",
    "import numpy as np\n",
    "from datetime import datetime\n",
    "import re"
   ]
  },
  {
   "cell_type": "code",
   "execution_count": 3,
   "metadata": {},
   "outputs": [
    {
     "name": "stdout",
     "output_type": "stream",
     "text": [
      "     Sales Person    Country              Product       Date    Amount  \\\n",
      "0  Jehu Rudeforth         UK      Mint Chip Choco  04-Jan-22   $5,320    \n",
      "1     Van Tuxwell      India        85% Dark Bars  01-Aug-22   $7,896    \n",
      "2    Gigi Bohling      India  Peanut Butter Cubes  07-Jul-22   $4,501    \n",
      "3    Jan Morforth  Australia  Peanut Butter Cubes  27-Apr-22  $12,726    \n",
      "4  Jehu Rudeforth         UK  Peanut Butter Cubes  24-Feb-22  $13,685    \n",
      "\n",
      "   Boxes Shipped  \n",
      "0            180  \n",
      "1             94  \n",
      "2             91  \n",
      "3            342  \n",
      "4            184  \n"
     ]
    }
   ],
   "source": [
    "data=pd.read_csv('Chocolate Sales.csv')\n",
    "df= pd.DataFrame(data)\n",
    "print(df.head())"
   ]
  },
  {
   "cell_type": "markdown",
   "metadata": {},
   "source": [
    "df.tail(3)  # Muestra las últimas 'n' filas del DataFrame\n",
    "df.shape  # Retorna una tupla con el número de filas y columnas\n",
    "df.dtypes  # Retorna los tipos de datos de cada columna\n",
    "df.count()  # Cuenta el número de valores no nulos en cada columna\n",
    "df['País de nacimiento'].unique() #Ver registros únicos de una columna"
   ]
  },
  {
   "cell_type": "code",
   "execution_count": 4,
   "metadata": {},
   "outputs": [
    {
     "name": "stdout",
     "output_type": "stream",
     "text": [
      "Conjunto de datos: \n",
      "           Sales Person    Country              Product       Date    Amount  \\\n",
      "0       Jehu Rudeforth         UK      Mint Chip Choco 2022-01-04   $5,320    \n",
      "1          Van Tuxwell      India        85% Dark Bars 2022-08-01   $7,896    \n",
      "2         Gigi Bohling      India  Peanut Butter Cubes 2022-07-07   $4,501    \n",
      "3         Jan Morforth  Australia  Peanut Butter Cubes 2022-04-27  $12,726    \n",
      "4       Jehu Rudeforth         UK  Peanut Butter Cubes 2022-02-24  $13,685    \n",
      "...                ...        ...                  ...        ...       ...   \n",
      "1089  Karlen McCaffrey  Australia  Spicy Special Slims 2022-05-17   $4,410    \n",
      "1090    Jehu Rudeforth        USA           White Choc 2022-06-07   $6,559    \n",
      "1091      Ches Bonnell     Canada  Organic Choco Syrup 2022-07-26     $574    \n",
      "1092    Dotty Strutley      India              Eclairs 2022-07-28   $2,086    \n",
      "1093  Karlen McCaffrey      India       70% Dark Bites 2022-05-23   $5,075    \n",
      "\n",
      "      Boxes Shipped  \n",
      "0               180  \n",
      "1                94  \n",
      "2                91  \n",
      "3               342  \n",
      "4               184  \n",
      "...             ...  \n",
      "1089            323  \n",
      "1090            119  \n",
      "1091            217  \n",
      "1092            384  \n",
      "1093            344  \n",
      "\n",
      "[1094 rows x 6 columns]\n"
     ]
    },
    {
     "name": "stderr",
     "output_type": "stream",
     "text": [
      "C:\\Users\\crisj\\AppData\\Local\\Temp\\ipykernel_9516\\1470582907.py:1: UserWarning: Could not infer format, so each element will be parsed individually, falling back to `dateutil`. To ensure parsing is consistent and as-expected, please specify a format.\n",
      "  df['Date']= pd.to_datetime(df['Date'], errors='coerce')\n"
     ]
    }
   ],
   "source": [
    "df['Date']= pd.to_datetime(df['Date'], errors='coerce')\n",
    "\n",
    "print('Conjunto de datos: \\n', df)"
   ]
  },
  {
   "cell_type": "code",
   "execution_count": 5,
   "metadata": {},
   "outputs": [
    {
     "name": "stdout",
     "output_type": "stream",
     "text": [
      "       Amount  amount_accuracy\n",
      "0      5320.0             True\n",
      "1      7896.0             True\n",
      "2      4501.0             True\n",
      "3     12726.0             True\n",
      "4     13685.0             True\n",
      "...       ...              ...\n",
      "1089   4410.0             True\n",
      "1090   6559.0             True\n",
      "1091    574.0             True\n",
      "1092   2086.0             True\n",
      "1093   5075.0             True\n",
      "\n",
      "[1094 rows x 2 columns]\n"
     ]
    },
    {
     "name": "stderr",
     "output_type": "stream",
     "text": [
      "<>:1: SyntaxWarning: invalid escape sequence '\\$'\n",
      "<>:1: SyntaxWarning: invalid escape sequence '\\$'\n",
      "C:\\Users\\crisj\\AppData\\Local\\Temp\\ipykernel_9516\\2404549000.py:1: SyntaxWarning: invalid escape sequence '\\$'\n",
      "  df['Amount'] = df['Amount'].replace('[\\$,]', '', regex=True).astype(float)\n"
     ]
    }
   ],
   "source": [
    "df['Amount'] = df['Amount'].replace('[\\$,]', '', regex=True).astype(float)\n",
    "df['amount_accuracy'] = df['Amount'].apply(lambda x: True if pd.notnull(x) and x > 0 else False)\n",
    "\n",
    "print(df[['Amount', 'amount_accuracy']])"
   ]
  },
  {
   "cell_type": "code",
   "execution_count": 23,
   "metadata": {},
   "outputs": [
    {
     "name": "stdout",
     "output_type": "stream",
     "text": [
      "Montos negativos \n",
      " Empty DataFrame\n",
      "Columns: [Sales Person, Amount, amount_accuracy]\n",
      "Index: []\n"
     ]
    }
   ],
   "source": [
    "df['amount_accuracy'] = df['Amount'].apply(lambda x: True if pd.notnull(x) and x>0 else False)\n",
    "print(\"Montos negativos \\n\", df.loc[df['amount_accuracy'] == False, ['Sales Person', 'Amount', 'amount_accuracy']])"
   ]
  },
  {
   "cell_type": "code",
   "execution_count": 24,
   "metadata": {},
   "outputs": [
    {
     "name": "stdout",
     "output_type": "stream",
     "text": [
      "Integridad (Sales person, Country and Product)\n",
      " Empty DataFrame\n",
      "Columns: [Sales Person, Country, Product]\n",
      "Index: []\n"
     ]
    }
   ],
   "source": [
    "df['Sales_Per complete']= df['Sales Person'].notna()\n",
    "df['Country complete']= df['Country'].notna()\n",
    "df['Product complete']= df['Product'].notna()\n",
    "\n",
    "print('Integridad (Sales person, Country and Product)\\n', \n",
    "df.loc[\n",
    "    (df['Sales_Per complete']==False) | (df['Country complete']==False) | (df['Product complete']==False),\n",
    "     ['Sales Person','Country','Product']])\n",
    "\n"
   ]
  },
  {
   "cell_type": "code",
   "execution_count": 25,
   "metadata": {},
   "outputs": [
    {
     "name": "stdout",
     "output_type": "stream",
     "text": [
      "Fechas averiadas: \n",
      " Empty DataFrame\n",
      "Columns: [Date]\n",
      "Index: []\n"
     ]
    }
   ],
   "source": [
    "today= datetime.now()\n",
    "df['Fecha_coherente']= df['Date'].apply(lambda x:x <= today if pd.notnull(x)else False)\n",
    "print('Fechas averiadas: \\n', df.loc[df['Fecha_coherente']==False, ['Date']])"
   ]
  },
  {
   "cell_type": "code",
   "execution_count": 26,
   "metadata": {},
   "outputs": [
    {
     "name": "stdout",
     "output_type": "stream",
     "text": [
      "        id      Sales Person    Country\n",
      "0        0    Jehu Rudeforth         UK\n",
      "1        1       Van Tuxwell      India\n",
      "2        2      Gigi Bohling      India\n",
      "3        3      Jan Morforth  Australia\n",
      "4        4    Jehu Rudeforth         UK\n",
      "...    ...               ...        ...\n",
      "1089  1089  Karlen McCaffrey  Australia\n",
      "1090  1090    Jehu Rudeforth        USA\n",
      "1091  1091      Ches Bonnell     Canada\n",
      "1092  1092    Dotty Strutley      India\n",
      "1093  1093  Karlen McCaffrey      India\n",
      "\n",
      "[1094 rows x 3 columns]\n"
     ]
    }
   ],
   "source": [
    "df['id'] = df.index  # Crea una columna 'id' con los valores del índice\n",
    "print(df[['id', 'Sales Person', 'Country']])  # Verifica que 'id' ahora existe\n",
    "\n"
   ]
  },
  {
   "cell_type": "code",
   "execution_count": 27,
   "metadata": {},
   "outputs": [
    {
     "name": "stdout",
     "output_type": "stream",
     "text": [
      "\n",
      "Unicidad (ID único):\n",
      "         id  id_unico\n",
      "0        0      True\n",
      "1        1      True\n",
      "2        2      True\n",
      "3        3      True\n",
      "4        4      True\n",
      "...    ...       ...\n",
      "1089  1089      True\n",
      "1090  1090      True\n",
      "1091  1091      True\n",
      "1092  1092      True\n",
      "1093  1093      True\n",
      "\n",
      "[1094 rows x 2 columns]\n"
     ]
    }
   ],
   "source": [
    "df['id_unico'] = ~df['id'].duplicated(keep=False)\n",
    "print(\"\\nUnicidad (ID único):\\n\", df[['id', 'id_unico']])"
   ]
  },
  {
   "cell_type": "code",
   "execution_count": 28,
   "metadata": {},
   "outputs": [
    {
     "name": "stdout",
     "output_type": "stream",
     "text": [
      "\n",
      "Oportunidad (Fechas de registro recientes):\n",
      " Empty DataFrame\n",
      "Columns: [id, Date, fecha_oportuna]\n",
      "Index: []\n"
     ]
    }
   ],
   "source": [
    "df['fecha_oportuna'] = df['Date'].apply(lambda x: x >= datetime(2022, 1, 1) if pd.notnull(x) else False)\n",
    "print(\"\\nOportunidad (Fechas de registro recientes):\\n\", df.loc[df['fecha_oportuna']==False,['id', 'Date', 'fecha_oportuna']])\n"
   ]
  },
  {
   "cell_type": "code",
   "execution_count": 29,
   "metadata": {},
   "outputs": [
    {
     "name": "stdout",
     "output_type": "stream",
     "text": [
      "\n",
      "Aptitud (Datos no aptos para contacto):\n",
      " Empty DataFrame\n",
      "Columns: [id, datos_aptos]\n",
      "Index: []\n"
     ]
    }
   ],
   "source": [
    "df['datos_aptos']= df.apply(lambda row: row['amount_accuracy'] and row['Sales_Per complete'] \n",
    "                            and row['Country complete'] and row['Product complete'],axis=1)\n",
    "\n",
    "print(\"\\nAptitud (Datos no aptos para contacto):\\n\", df.loc[df['datos_aptos']==False,['id', 'datos_aptos']])"
   ]
  },
  {
   "cell_type": "code",
   "execution_count": 6,
   "metadata": {},
   "outputs": [
    {
     "data": {
      "text/html": [
       "<div>\n",
       "<style scoped>\n",
       "    .dataframe tbody tr th:only-of-type {\n",
       "        vertical-align: middle;\n",
       "    }\n",
       "\n",
       "    .dataframe tbody tr th {\n",
       "        vertical-align: top;\n",
       "    }\n",
       "\n",
       "    .dataframe thead th {\n",
       "        text-align: right;\n",
       "    }\n",
       "</style>\n",
       "<table border=\"1\" class=\"dataframe\">\n",
       "  <thead>\n",
       "    <tr style=\"text-align: right;\">\n",
       "      <th></th>\n",
       "      <th>Date</th>\n",
       "      <th>Amount</th>\n",
       "      <th>Boxes Shipped</th>\n",
       "    </tr>\n",
       "  </thead>\n",
       "  <tbody>\n",
       "    <tr>\n",
       "      <th>count</th>\n",
       "      <td>1094</td>\n",
       "      <td>1094.000000</td>\n",
       "      <td>1094.000000</td>\n",
       "    </tr>\n",
       "    <tr>\n",
       "      <th>mean</th>\n",
       "      <td>2022-05-03 09:04:56.160877568</td>\n",
       "      <td>5652.308044</td>\n",
       "      <td>161.797989</td>\n",
       "    </tr>\n",
       "    <tr>\n",
       "      <th>min</th>\n",
       "      <td>2022-01-03 00:00:00</td>\n",
       "      <td>7.000000</td>\n",
       "      <td>1.000000</td>\n",
       "    </tr>\n",
       "    <tr>\n",
       "      <th>25%</th>\n",
       "      <td>2022-03-02 00:00:00</td>\n",
       "      <td>2390.500000</td>\n",
       "      <td>70.000000</td>\n",
       "    </tr>\n",
       "    <tr>\n",
       "      <th>50%</th>\n",
       "      <td>2022-05-11 00:00:00</td>\n",
       "      <td>4868.500000</td>\n",
       "      <td>135.000000</td>\n",
       "    </tr>\n",
       "    <tr>\n",
       "      <th>75%</th>\n",
       "      <td>2022-07-04 00:00:00</td>\n",
       "      <td>8027.250000</td>\n",
       "      <td>228.750000</td>\n",
       "    </tr>\n",
       "    <tr>\n",
       "      <th>max</th>\n",
       "      <td>2022-08-31 00:00:00</td>\n",
       "      <td>22050.000000</td>\n",
       "      <td>709.000000</td>\n",
       "    </tr>\n",
       "    <tr>\n",
       "      <th>std</th>\n",
       "      <td>NaN</td>\n",
       "      <td>4102.442014</td>\n",
       "      <td>121.544145</td>\n",
       "    </tr>\n",
       "  </tbody>\n",
       "</table>\n",
       "</div>"
      ],
      "text/plain": [
       "                                Date        Amount  Boxes Shipped\n",
       "count                           1094   1094.000000    1094.000000\n",
       "mean   2022-05-03 09:04:56.160877568   5652.308044     161.797989\n",
       "min              2022-01-03 00:00:00      7.000000       1.000000\n",
       "25%              2022-03-02 00:00:00   2390.500000      70.000000\n",
       "50%              2022-05-11 00:00:00   4868.500000     135.000000\n",
       "75%              2022-07-04 00:00:00   8027.250000     228.750000\n",
       "max              2022-08-31 00:00:00  22050.000000     709.000000\n",
       "std                              NaN   4102.442014     121.544145"
      ]
     },
     "execution_count": 6,
     "metadata": {},
     "output_type": "execute_result"
    }
   ],
   "source": [
    "df.describe()"
   ]
  },
  {
   "cell_type": "code",
   "execution_count": 33,
   "metadata": {},
   "outputs": [
    {
     "name": "stdout",
     "output_type": "stream",
     "text": [
      "Estadístico de Shapiro-Wilk: 0.9360, Valor p: 0.0000\n",
      "Los datos no siguen una distribución normal.\n"
     ]
    }
   ],
   "source": [
    "from scipy.stats import shapiro\n",
    "\n",
    "# Aplicar la prueba de Shapiro-Wilk\n",
    "stat, p_value = shapiro(df['Amount'])\n",
    "\n",
    "# Mostrar los resultados\n",
    "print(f\"Estadístico de Shapiro-Wilk: {stat:.4f}, Valor p: {p_value:.4f}\")\n",
    "\n",
    "# Interpretar el resultado\n",
    "if p_value > 0.05:\n",
    "    print(\"Los datos siguen una distribución normal.\")\n",
    "else:\n",
    "    print(\"Los datos no siguen una distribución normal.\")"
   ]
  },
  {
   "cell_type": "code",
   "execution_count": 34,
   "metadata": {},
   "outputs": [],
   "source": [
    "df.to_csv(\"Chocolateria_limpio.csv\", index=False)"
   ]
  }
 ],
 "metadata": {
  "kernelspec": {
   "display_name": "Python 3",
   "language": "python",
   "name": "python3"
  },
  "language_info": {
   "codemirror_mode": {
    "name": "ipython",
    "version": 3
   },
   "file_extension": ".py",
   "mimetype": "text/x-python",
   "name": "python",
   "nbconvert_exporter": "python",
   "pygments_lexer": "ipython3",
   "version": "3.13.0"
  }
 },
 "nbformat": 4,
 "nbformat_minor": 2
}
